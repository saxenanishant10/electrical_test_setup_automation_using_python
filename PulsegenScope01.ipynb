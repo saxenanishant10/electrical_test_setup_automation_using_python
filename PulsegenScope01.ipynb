{
 "cells": [
  {
   "cell_type": "markdown",
   "id": "f3e9606d",
   "metadata": {},
   "source": [
    "# Pulse measurement\n",
    "This script is used to apply a voltage pulse with defined parameters and capture the applied pulse as well as device response at the oscilloscope"
   ]
  },
  {
   "cell_type": "markdown",
   "id": "ba6f1d5d",
   "metadata": {},
   "source": [
    "#### Import library files and list instruments connected to the resource manager"
   ]
  },
  {
   "cell_type": "code",
   "execution_count": 27,
   "id": "ee322995",
   "metadata": {},
   "outputs": [
    {
     "name": "stdout",
     "output_type": "stream",
     "text": [
      "('TCPIP0::192.168.0.5::inst0::INSTR', 'GPIB0::10::INSTR')\n"
     ]
    }
   ],
   "source": [
    "import numpy as np\n",
    "import matplotlib.pyplot as plt\n",
    "import pandas as pd\n",
    "import pyvisa\n",
    "from datetime import datetime\n",
    "from scr import *\n",
    "\n",
    "rm = pyvisa.ResourceManager()\n",
    "print(rm.list_resources()) # list connected instruments"
   ]
  },
  {
   "cell_type": "markdown",
   "id": "db13caca",
   "metadata": {},
   "source": [
    "#### Open a connection with resource manager"
   ]
  },
  {
   "cell_type": "code",
   "execution_count": 29,
   "id": "c5c9fa54",
   "metadata": {},
   "outputs": [
    {
     "name": "stdout",
     "output_type": "stream",
     "text": [
      "HEWLETT-PACKARD,HP81110A,DE38700131,REV 01.12.03\n",
      "\n",
      "AGILENT TECHNOLOGIES,DSO-X 3034A,MY53160262,02.43.2018020635\n",
      "\n"
     ]
    }
   ],
   "source": [
    "pulsegen = rm.open_resource(\"GPIB0::10::INSTR\")\n",
    "scope = rm.open_resource(\"TCPIP0::192.168.0.5::inst0::INSTR\")\n",
    "print(pulsegen.query(\"*IDN?\"))\n",
    "print(scope.query(\"*IDN?\"))"
   ]
  },
  {
   "cell_type": "markdown",
   "id": "ed35e706",
   "metadata": {},
   "source": [
    "#### Initialize the instruments"
   ]
  },
  {
   "cell_type": "code",
   "execution_count": 30,
   "id": "55ddb524",
   "metadata": {},
   "outputs": [
    {
     "data": {
      "text/plain": [
       "15"
      ]
     },
     "execution_count": 30,
     "metadata": {},
     "output_type": "execute_result"
    }
   ],
   "source": [
    "# ======== initialize pulse generator ====================\n",
    "\n",
    "pulsegen.write(\"*RST\")\n",
    "pulsegen.write(\":DISPlay On\")\n",
    "pulsegen.write(\":HOLD VOLT\") # enable voltage or current subsystem\n",
    "pulsegen.write(\":ROSC:SOUR Int\")  # external reference clock\n",
    "pulsegen.write(\":OUTP1:IMP 50OHM\")  # set OUT1 source impedance\n",
    "pulsegen.write(\":OUTP1:IMP:EXT 50OHM\")  # or 1MOHM \n",
    "pulsegen.write(\":OUTP1:POL NORM\")   # set OUT1 polarity\n",
    "pulsegen.write(\":CHAN:MATH OFF\")  # channel math off\n",
    "pulsegen.write(\":TRIG:COUN 1\")\n",
    "pulsegen.write(\":ARM:SOUR MAN\")\n",
    "#pulsegen.write(\"*WAI\")\n",
    "\n",
    "# ======== initialize Oscilloscope =======================\n",
    "\n",
    "scope.write(\"*CLS\")\n",
    "scope.write(\"*RST\")\n",
    "\n",
    "scope.write(\"CHAN1:DISP OFF\")  # enable channel 1 trace\n",
    "scope.write(\"CHAN1:COUP DC\")  # channel 1 coupling\n",
    "scope.write(\"CHAN1:BWL OFF\") # set channel 1 bandwidth to full bandwidth of oscilloscope\n",
    "scope.write(\"CHAN1:IMP FIFT\") # or ONEMeg\n",
    "scope.write(\"CHAN1:SCAL 1\")  # set channel 1 vertical scale\n",
    "scope.write(\"CHAN1:OFFS 0\")  # set channel 1 offset\n",
    "\n",
    "scope.write(\"CHAN2:DISP ON\")  \n",
    "scope.write(\"CHAN2:COUP DC\")  \n",
    "scope.write(\"CHAN2:BWL OFF\") \n",
    "scope.write(\"CHAN2:IMP FIFT\") #FIFT\n",
    "scope.write(\"CHAN2:SCAL 1\")  \n",
    "scope.write(\"CHAN2:OFFS 0\")  \n",
    "\n",
    "scope.write(\":TIMebase:SCALe 1\")\n",
    "scope.write(\":TIMebase:POSition 0\")\n",
    "\n",
    "scope.write(\"TRIG:SOUR EXT\") # Externally triggered from pulse generator\n",
    "scope.write(\"TRIG:MODE EDGE\") # Edge triggered\n",
    "scope.write(\"TRIG:SLOP POS\") # Triggered on positive slope\n",
    "\n"
   ]
  },
  {
   "cell_type": "markdown",
   "id": "7f0425dd",
   "metadata": {},
   "source": [
    "#### Set the pulse parameters, apply pulse and aquire data"
   ]
  },
  {
   "cell_type": "code",
   "execution_count": 31,
   "id": "2ac290b3",
   "metadata": {},
   "outputs": [],
   "source": [
    "# ========= Set pulse parameters =============\n",
    "ep = PulseParameters(\n",
    "    amplitude=5,  # V\n",
    "    pulsewidth=100,  # ns\n",
    "    risetime=2,  # ns\n",
    "    falltime=2,  # ns\n",
    ")\n",
    "Rs = 350\n",
    "pulsegen.write(f\":VOLT1 {ep.amplitude}V\")\n",
    "pulsegen.write(f\":VOLT1:OFFS {ep.amplitude/2}V\") # set offset = amplitude/2\n",
    "pulsegen.write(f\":PULS:WIDT {ep.pulsewidth}NS\")\n",
    "pulsegen.write(f\":PULS:TRAN {ep.risetime}NS\") # leading edge transition time\n",
    "pulsegen.write(f\":PULS:TRAN:TRA:AUTO OFF\") # trailing edge = leading edge OFF\n",
    "pulsegen.write(f\":PULS:TRAN:TRA {ep.falltime}NS\") # trailing edge transition time\n",
    "\n",
    "# ===== Set Recording parameters at scope =======\n",
    "Vout = ep.amplitude * (50/ (50 + Rs))\n",
    "scope.write(f\"CHAN2:SCAL {Vout/4/1.5}\")\n",
    "scope.write(f\"CHAN2:OFFS {Vout/2/1.5}\")\n",
    "pulseLength = (ep.pulsewidth + ep.risetime + ep.falltime) * 1e-9\n",
    "scope.write(f\"TIM:SCAL {pulseLength/4}\")\n",
    "scope.write(f\"TIM:POS {pulseLength}\")\n",
    "#scope.write(\"TRIG:LEV 1\")\n",
    "scope.write(\":ACQUIRE:TYPE HRES\")\n",
    "#scope.write(\":ACQUIRE:COUNT 5\") # used for averaging of multiple aquisitions\n",
    "scope.write(\":SINGLE\") # Acquire a single trigger of data\n",
    "\n",
    "# ====== Trigger the pulse =====================\n",
    "pulsegen.write(\":OUTP1 ON\")  # Turn on OUT1\n",
    "\n",
    "sleep(0.5)\n",
    "pulsegen.write(\"*TRG\")\n",
    "sleep(1)\n",
    "pulsegen.write(\":OUTP1 OFF\")  # Turn off OUT1\n",
    "\n",
    "\n",
    "# ========= Aquire data =======================\n",
    "waveform = WaveForm()\n",
    "# store all this information into a waveform structure for later use\n",
    "#scope.write(f\":WAVEFORM:SOURCE CHAN1\")\n",
    "# Get the data back as a WORD(i.e., INT16), other options are ASCII and BYTE\n",
    "#scope.write(\":WAVEFORM:FORMAT WORD\")\n",
    "# Set the byte order on the instrument as well\n",
    "#scope.write(\":WAVEFORM:BYTEORDER LSBFirst\")\n",
    "# Get the preamble block\n",
    "#preambleBlock = scope.query(\":WAVeform:PREamble?\")\n",
    "#rawData = scope.query_binary_values(\":WAV:DATA?\", \"H\")\n",
    "#waveform.addChannel(1, preambleBlock.split(\",\"), rawData)\n",
    "\n",
    "scope.write(f\":WAVEFORM:SOURCE CHAN2\")\n",
    "scope.write(\":WAVEFORM:FORMAT WORD\")\n",
    "scope.write(\":WAVEFORM:BYTEORDER LSBFirst\")\n",
    "preambleBlock = scope.query(\":WAVeform:PREamble?\")\n",
    "rawData = scope.query_binary_values(\":WAV:DATA?\", \"H\")\n",
    "waveform.addChannel(2, preambleBlock.split(\",\"), rawData)"
   ]
  },
  {
   "cell_type": "markdown",
   "id": "beff683c",
   "metadata": {},
   "source": [
    "#### Plot the measured data"
   ]
  },
  {
   "cell_type": "code",
   "execution_count": null,
   "id": "37077158",
   "metadata": {},
   "outputs": [],
   "source": [
    "# Plot channel 1 and 2 voltages with respect to time\n",
    "plt.figure()\n",
    "#plt.plot(waveform.time(1) * 1e9, waveform.ch(1))\n",
    "plt.plot(waveform.time(2) * 1e9, waveform.ch(2)*1000/50)\n",
    "plt.xlabel(\"Time (ns)\")\n",
    "plt.ylabel(\"Current (mA)\")\n",
    "plt.grid()\n",
    "#filename='d01_08.0V'\n",
    "plt.savefig('d06_0'+str(ep.amplitude)+'.jpg', dpi=200)\n",
    "\n",
    "# Save the measurement\n",
    "sp = SampleParameters('d06_0'+str(ep.amplitude))\n",
    "np.savez_compressed(f\"{sp.name}\", **waveform.asdict()) #save multiple arrays"
   ]
  },
  {
   "cell_type": "markdown",
   "id": "1a92c9fc",
   "metadata": {},
   "source": [
    "#### Load and plot the saved data"
   ]
  },
  {
   "cell_type": "code",
   "execution_count": null,
   "id": "80ae6624",
   "metadata": {},
   "outputs": [],
   "source": [
    "data = np.load(f\"{sp.name}\"+\".npz\")\n",
    "print( data.files)"
   ]
  },
  {
   "cell_type": "code",
   "execution_count": null,
   "id": "85ba5fe7",
   "metadata": {},
   "outputs": [],
   "source": [
    "plt.figure()\n",
    "#plt.plot(data['time1'] * 1e9, data['ch1'])\n",
    "plt.plot(data['time2'] * 1e9, data['ch2'])\n",
    "plt.xlabel(\"Time (ns)\")\n",
    "plt.ylabel(\"Voltage (V)\")\n",
    "plt.grid()\n",
    "#plt.savefig('filename.jpg')"
   ]
  }
 ],
 "metadata": {
  "kernelspec": {
   "display_name": "Python 3 (ipykernel)",
   "language": "python",
   "name": "python3"
  },
  "language_info": {
   "codemirror_mode": {
    "name": "ipython",
    "version": 3
   },
   "file_extension": ".py",
   "mimetype": "text/x-python",
   "name": "python",
   "nbconvert_exporter": "python",
   "pygments_lexer": "ipython3",
   "version": "3.10.9"
  }
 },
 "nbformat": 4,
 "nbformat_minor": 5
}
