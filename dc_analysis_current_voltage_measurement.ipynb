import numpy as np
import matplotlib.pyplot as plt
import pandas as pd
import glob

#data = pd.read_csv("IV_wafer02_rightblock_device03R.csv", delimiter=';')
fig, axs = plt.subplots(1, 2, figsize=(10, 4), layout = 'tight')

axs[0].set_xlabel('Voltage (V)', fontsize=12)
axs[0].set_ylabel('Current (mA)', fontsize=12)
axs[0].set_xticks(np.arange(0, 10, 1), minor=True)
axs[0].tick_params(axis='both', which='major', labelsize=10)

csv_files = glob.glob("*.csv")
n = 6
colors = plt.cm.viridis(np.linspace(0, 1, n)) # using color map for plot
i=0
for file in csv_files:
    data = pd.read_csv(file, delimiter=';')
    axs[0].plot(data['Voltage (V)'], data['Current (A)']*1e3, '-', color=colors[i])
    i += 1
axs[0].grid()

axs[1].set_xlabel('Voltage (V)', fontsize=12)
axs[1].set_ylabel('Current (A)', fontsize=12) 
axs[1].set_xticks(np.arange(0, 10, 1), minor=True)
axs[1].tick_params(axis='both', which='major', labelsize=10)
axs[1].set_yscale("log")
#axs[1].set_yticks(minor=True)
n = 6
colors = plt.cm.viridis(np.linspace(0, 1, n)) # using color map for plot
i=0
for file in csv_files:
    data = pd.read_csv(file, delimiter=';')
    axs[1].plot(data['Voltage (V)'], (data['Current (A)']), '-', color=colors[i])
    i += 1
axs[1].grid()

#figurename = input("Save figure as :")
#plt.savefig('combined_IV_10V.jpg', dpi = 300)
